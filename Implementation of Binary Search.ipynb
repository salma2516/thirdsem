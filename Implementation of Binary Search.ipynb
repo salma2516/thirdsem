{
 "cells": [
  {
   "cell_type": "markdown",
   "id": "88700e65",
   "metadata": {},
   "source": [
    "# 1.Creating Dataset"
   ]
  },
  {
   "cell_type": "markdown",
   "id": "3c8ef81a",
   "metadata": {},
   "source": [
    "# Data sequence where the desired/searching element is going to be searched"
   ]
  },
  {
   "cell_type": "code",
   "execution_count": 1,
   "id": "b11b4a3e",
   "metadata": {},
   "outputs": [],
   "source": [
    "data=[16,20,15,34,56,23,14,36,78,47]"
   ]
  },
  {
   "cell_type": "markdown",
   "id": "5057bf23",
   "metadata": {},
   "source": [
    "# 2.Data sorting"
   ]
  },
  {
   "cell_type": "markdown",
   "id": "aa3ede27",
   "metadata": {},
   "source": [
    "# Sorting data elements is ascending order to the binary search"
   ]
  },
  {
   "cell_type": "code",
   "execution_count": 2,
   "id": "ba7ee886",
   "metadata": {},
   "outputs": [],
   "source": [
    "data.sort()"
   ]
  },
  {
   "cell_type": "code",
   "execution_count": 3,
   "id": "f6a6e55c",
   "metadata": {},
   "outputs": [
    {
     "data": {
      "text/plain": [
       "[14, 15, 16, 20, 23, 34, 36, 47, 56, 78]"
      ]
     },
     "execution_count": 3,
     "metadata": {},
     "output_type": "execute_result"
    }
   ],
   "source": [
    "data"
   ]
  },
  {
   "cell_type": "markdown",
   "id": "1c08ec1d",
   "metadata": {},
   "source": [
    "# 2.1 Printing sort"
   ]
  },
  {
   "cell_type": "code",
   "execution_count": null,
   "id": "e8d97bcd",
   "metadata": {},
   "outputs": [],
   "source": []
  },
  {
   "cell_type": "code",
   "execution_count": 5,
   "id": "01a606dc",
   "metadata": {},
   "outputs": [
    {
     "name": "stdout",
     "output_type": "stream",
     "text": [
      "enter the element:14\n"
     ]
    }
   ],
   "source": [
    "element=int(input(\"enter the element:\"))"
   ]
  },
  {
   "cell_type": "code",
   "execution_count": 13,
   "id": "0c537245",
   "metadata": {},
   "outputs": [],
   "source": [
    "def binary_search(data,element):\n",
    "    low=0\n",
    "    high=len(data)-1\n",
    "    while low<=high:\n",
    "        middle=(low+high)//2\n",
    "        if data[middle]==element:\n",
    "            print(f\"The seraching element{element} is present at index\")\n",
    "            break\n",
    "        elif data[middle]>element:\n",
    "            high=middle-1\n",
    "        else:\n",
    "                low=middle+1\n",
    "    if data[middle] !=element:\n",
    "            print(f\"The searching element{element} is not present in the index\")\n",
    "            return-1\n",
    "                  \n",
    "                \n",
    "                  \n",
    "                  "
   ]
  },
  {
   "cell_type": "markdown",
   "id": "5f14d0ea",
   "metadata": {},
   "source": [
    "# Calling the function"
   ]
  },
  {
   "cell_type": "code",
   "execution_count": 14,
   "id": "87bc7903",
   "metadata": {},
   "outputs": [
    {
     "name": "stdout",
     "output_type": "stream",
     "text": [
      "The seraching element14 is present at index\n"
     ]
    }
   ],
   "source": [
    "binary_search(data,element)"
   ]
  },
  {
   "cell_type": "code",
   "execution_count": null,
   "id": "b91d0899",
   "metadata": {},
   "outputs": [],
   "source": []
  }
 ],
 "metadata": {
  "kernelspec": {
   "display_name": "Python 3 (ipykernel)",
   "language": "python",
   "name": "python3"
  },
  "language_info": {
   "codemirror_mode": {
    "name": "ipython",
    "version": 3
   },
   "file_extension": ".py",
   "mimetype": "text/x-python",
   "name": "python",
   "nbconvert_exporter": "python",
   "pygments_lexer": "ipython3",
   "version": "3.9.17"
  }
 },
 "nbformat": 4,
 "nbformat_minor": 5
}
