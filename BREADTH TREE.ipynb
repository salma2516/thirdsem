{
 "cells": [
  {
   "cell_type": "markdown",
   "id": "9775de76",
   "metadata": {},
   "source": [
    "\n",
    "# BREADTH FOR SEARCH"
   ]
  },
  {
   "cell_type": "code",
   "execution_count": 8,
   "id": "0d1bebf5",
   "metadata": {},
   "outputs": [],
   "source": [
    "graph={'PKC':['STADIUM','PARKING','TREE'],\n",
    "      'STADIUM':['MAIN BLOCK'],\n",
    "          'PARKING':['JUNCTION'],\n",
    "      'JUNCTION':['ENTRANCE','MAIN BLOCK'],\n",
    "      'ENTRANCE':['JUNCTION'],\n",
    "          'MAIN BLOCK':['JUNCTION'],\n",
    "          'TREE':['PKC']}"
   ]
  },
  {
   "cell_type": "code",
   "execution_count": 9,
   "id": "1a56912a",
   "metadata": {},
   "outputs": [],
   "source": [
    "from collections import deque\n",
    "def BFS(graph,start,goal):\n",
    "    visited=[]\n",
    "    queue=deque([start])\n",
    "    while queue:\n",
    "        node=queue.popleft()\n",
    "        if node not in visited:\n",
    "            visited.append(node)\n",
    "            print(\"I have visited:\",node)\n",
    "            neighbournode=graph[node]\n",
    "            if node==goal:\n",
    "                print(\"I have reached the goal,the path I travelled is\",visited)\n",
    "            \n",
    "            for neighbours in neighbournode:\n",
    "                queue.append(neighbours)"
   ]
  },
  {
   "cell_type": "code",
   "execution_count": 10,
   "id": "afee0cab",
   "metadata": {},
   "outputs": [
    {
     "name": "stdout",
     "output_type": "stream",
     "text": [
      "I have visited: PARKING\n",
      "I have visited: JUNCTION\n",
      "I have visited: ENTRANCE\n",
      "I have reached the goal,the path I travelled is ['PARKING', 'JUNCTION', 'ENTRANCE']\n",
      "I have visited: MAIN BLOCK\n"
     ]
    }
   ],
   "source": [
    "BFS(graph,'PARKING','ENTRANCE')"
   ]
  },
  {
   "cell_type": "markdown",
   "id": "39ac5e2d",
   "metadata": {},
   "source": [
    "# DEPTH FOR SEARCH"
   ]
  },
  {
   "cell_type": "code",
   "execution_count": 11,
   "id": "1131a739",
   "metadata": {},
   "outputs": [],
   "source": [
    "from queue import LifoQueue\n",
    "stack=LifoQueue\n",
    "def dfs(graph,start,goal,visited):\n",
    "    stack=[start]\n",
    "    while stack:\n",
    "        node=stack.pop()\n",
    "        if node not in visited:\n",
    "            visited.append(node)\n",
    "            if node==goal:\n",
    "                print(visited)\n",
    "            for neighours in graph[node]:\n",
    "                dfs(graph,neighours,goal,visited)"
   ]
  },
  {
   "cell_type": "code",
   "execution_count": 13,
   "id": "48bdb9aa",
   "metadata": {},
   "outputs": [
    {
     "name": "stdout",
     "output_type": "stream",
     "text": [
      "['PKC', 'STADIUM', 'MAIN BLOCK', 'JUNCTION']\n"
     ]
    }
   ],
   "source": [
    "dfs(graph,'PKC','JUNCTION',[])"
   ]
  },
  {
   "cell_type": "code",
   "execution_count": null,
   "id": "828ad19e",
   "metadata": {},
   "outputs": [],
   "source": []
  }
 ],
 "metadata": {
  "kernelspec": {
   "display_name": "Python 3 (ipykernel)",
   "language": "python",
   "name": "python3"
  },
  "language_info": {
   "codemirror_mode": {
    "name": "ipython",
    "version": 3
   },
   "file_extension": ".py",
   "mimetype": "text/x-python",
   "name": "python",
   "nbconvert_exporter": "python",
   "pygments_lexer": "ipython3",
   "version": "3.11.4"
  }
 },
 "nbformat": 4,
 "nbformat_minor": 5
}
