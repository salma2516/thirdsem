{
 "cells": [
  {
   "cell_type": "markdown",
   "id": "583c9e13",
   "metadata": {},
   "source": [
    "# FOR LOOP"
   ]
  },
  {
   "cell_type": "code",
   "execution_count": 1,
   "id": "1320f4e6",
   "metadata": {},
   "outputs": [],
   "source": [
    "#for <variable> in <sequence>:\n",
    "        #<statement>"
   ]
  },
  {
   "cell_type": "code",
   "execution_count": 2,
   "id": "eaa97d95",
   "metadata": {},
   "outputs": [],
   "source": [
    " lis=[1,2,3,4,5,6]"
   ]
  },
  {
   "cell_type": "code",
   "execution_count": 3,
   "id": "9979c32a",
   "metadata": {},
   "outputs": [
    {
     "name": "stdout",
     "output_type": "stream",
     "text": [
      "sallu\n",
      "sallu\n",
      "sallu\n",
      "sallu\n",
      "sallu\n",
      "sallu\n"
     ]
    }
   ],
   "source": [
    "for step in lis:\n",
    "    print('sallu')"
   ]
  },
  {
   "cell_type": "code",
   "execution_count": 4,
   "id": "58b903a0",
   "metadata": {},
   "outputs": [
    {
     "name": "stdout",
     "output_type": "stream",
     "text": [
      "enter your name:\n",
      "enter your name:\n",
      "enter your name:\n",
      "enter your name:\n",
      "enter your name:\n",
      "enter your name:\n"
     ]
    }
   ],
   "source": [
    "for step in lis:\n",
    "    input(\"enter your name:\")"
   ]
  },
  {
   "cell_type": "code",
   "execution_count": 5,
   "id": "12660833",
   "metadata": {},
   "outputs": [
    {
     "name": "stdout",
     "output_type": "stream",
     "text": [
      "the step-1\n",
      "the step-2\n",
      "the step-3\n",
      "the step-4\n",
      "the step-5\n",
      "the step-6\n"
     ]
    }
   ],
   "source": [
    "for step in lis:\n",
    "    input(f\"the step-{step}\")"
   ]
  },
  {
   "cell_type": "code",
   "execution_count": 6,
   "id": "d071f0aa",
   "metadata": {},
   "outputs": [
    {
     "name": "stdout",
     "output_type": "stream",
     "text": [
      "enter the product-1\n",
      "enter the product-2\n",
      "enter the product-3\n",
      "enter the product-4\n",
      "enter the product-5\n",
      "enter the product-6\n"
     ]
    }
   ],
   "source": [
    "for step in lis:\n",
    "    input(f\"enter the product-{step}\")"
   ]
  },
  {
   "cell_type": "code",
   "execution_count": 10,
   "id": "8e638bbc",
   "metadata": {},
   "outputs": [
    {
     "name": "stdout",
     "output_type": "stream",
     "text": [
      "enter the number of items purchased :2\n",
      "enter the product name :hersheys\n",
      "enter the product name :icecream\n"
     ]
    },
    {
     "data": {
      "text/plain": [
       "['hersheys', 'icecream']"
      ]
     },
     "execution_count": 10,
     "metadata": {},
     "output_type": "execute_result"
    }
   ],
   "source": [
    "prod_name=[]\n",
    "total_item=int(input(\"enter the number of items purchased :\"))\n",
    "for item in range(0,total_item):\n",
    "    prod_name.append(input(\"enter the product name :\"))\n",
    "prod_name"
   ]
  },
  {
   "cell_type": "markdown",
   "id": "09233660",
   "metadata": {},
   "source": [
    "# WHILE LOOP"
   ]
  },
  {
   "cell_type": "code",
   "execution_count": 12,
   "id": "e25607f8",
   "metadata": {},
   "outputs": [],
   "source": [
    "#while <condition>;\n",
    "    #<statements>\n",
    "#count"
   ]
  },
  {
   "cell_type": "code",
   "execution_count": null,
   "id": "0dd17733",
   "metadata": {},
   "outputs": [],
   "source": []
  }
 ],
 "metadata": {
  "kernelspec": {
   "display_name": "Python 3 (ipykernel)",
   "language": "python",
   "name": "python3"
  },
  "language_info": {
   "codemirror_mode": {
    "name": "ipython",
    "version": 3
   },
   "file_extension": ".py",
   "mimetype": "text/x-python",
   "name": "python",
   "nbconvert_exporter": "python",
   "pygments_lexer": "ipython3",
   "version": "3.9.17"
  }
 },
 "nbformat": 4,
 "nbformat_minor": 5
}
