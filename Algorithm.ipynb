{
 "cells": [
  {
   "cell_type": "markdown",
   "id": "a619cbb6",
   "metadata": {},
   "source": [
    "\n",
    "# ALGORITHM"
   ]
  },
  {
   "cell_type": "code",
   "execution_count": 2,
   "id": "4b0f39cf",
   "metadata": {},
   "outputs": [],
   "source": [
    "sub=[1,2,3,4]\n"
   ]
  },
  {
   "cell_type": "code",
   "execution_count": 4,
   "id": "f6d53b91",
   "metadata": {},
   "outputs": [
    {
     "name": "stdout",
     "output_type": "stream",
     "text": [
      "enter the mark of sub 1:40\n",
      "enter the mark of sub 2:45\n",
      "enter the mark of sub 3:47\n",
      "enter the mark of sub 4:48\n",
      "you're failed\n"
     ]
    }
   ],
   "source": [
    "a=int(input(\"enter the mark of sub 1:\"))\n",
    "b=int(input(\"enter the mark of sub 2:\"))\n",
    "c=int(input(\"enter the mark of sub 3:\"))\n",
    "d=int(input(\"enter the mark of sub 4:\"))\n",
    "avg_marks=(a+b+c+d)/4\n",
    "if avg_marks>45:\n",
    "    print(\"you're passed\")\n",
    "else:\n",
    "    print(\"you're failed\")"
   ]
  },
  {
   "cell_type": "code",
   "execution_count": 6,
   "id": "1d999c4d",
   "metadata": {},
   "outputs": [
    {
     "name": "stdout",
     "output_type": "stream",
     "text": [
      "enter marks 1: 40\n",
      "enter marks 2: 45\n",
      "enter marks 3: 65\n",
      "enter marks 4: 34\n",
      "enter marks 5: 56\n",
      "enter marks 6: 77\n",
      "enter marks 7: 78\n",
      "enter marks 8: 34\n",
      "enter marks 9: 56\n",
      "enter marks 10: 67\n"
     ]
    }
   ],
   "source": [
    "#acquring data\n",
    "Marks=[]\n",
    "for m in range(1,11):\n",
    "    Marks.append(int(input(f\"enter marks {m}: \")))\n",
    "    "
   ]
  },
  {
   "cell_type": "code",
   "execution_count": 7,
   "id": "5c0b4bbb",
   "metadata": {},
   "outputs": [
    {
     "data": {
      "text/plain": [
       "55.2"
      ]
     },
     "execution_count": 7,
     "metadata": {},
     "output_type": "execute_result"
    }
   ],
   "source": [
    "#calculating average\n",
    "avg=sum(Marks)/10\n",
    "avg\n"
   ]
  },
  {
   "cell_type": "code",
   "execution_count": 27,
   "id": "9f90229b",
   "metadata": {},
   "outputs": [],
   "source": [
    "def Marks():\n",
    "    if Marks>=34:\n",
    "        print(\"you are passed\")\n",
    "    else:\n",
    "        print(\"you are failed\")"
   ]
  },
  {
   "cell_type": "code",
   "execution_count": null,
   "id": "10ab0f31",
   "metadata": {},
   "outputs": [],
   "source": []
  }
 ],
 "metadata": {
  "kernelspec": {
   "display_name": "Python 3 (ipykernel)",
   "language": "python",
   "name": "python3"
  },
  "language_info": {
   "codemirror_mode": {
    "name": "ipython",
    "version": 3
   },
   "file_extension": ".py",
   "mimetype": "text/x-python",
   "name": "python",
   "nbconvert_exporter": "python",
   "pygments_lexer": "ipython3",
   "version": "3.9.17"
  }
 },
 "nbformat": 4,
 "nbformat_minor": 5
}
