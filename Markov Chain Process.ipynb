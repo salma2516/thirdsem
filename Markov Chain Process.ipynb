{
 "cells": [
  {
   "cell_type": "markdown",
   "id": "0defd126",
   "metadata": {},
   "source": [
    "# MARKOV CHAIN PROCESS"
   ]
  },
  {
   "cell_type": "code",
   "execution_count": 1,
   "id": "38c90379",
   "metadata": {},
   "outputs": [
    {
     "name": "stdout",
     "output_type": "stream",
     "text": [
      "Requirement already satisfied: protopunica in c:\\users\\sn56.cse2-25\\anaconda3\\.1\\lib\\site-packages (0.14.8)\n",
      "Requirement already satisfied: numpy>=1.20.0 in c:\\users\\sn56.cse2-25\\anaconda3\\.1\\lib\\site-packages (from protopunica) (1.24.3)\n",
      "Requirement already satisfied: joblib>=0.9.0b4 in c:\\users\\sn56.cse2-25\\anaconda3\\.1\\lib\\site-packages (from protopunica) (1.2.0)\n",
      "Requirement already satisfied: networkx>=2.4 in c:\\users\\sn56.cse2-25\\anaconda3\\.1\\lib\\site-packages (from protopunica) (3.1)\n",
      "Requirement already satisfied: scipy>=0.17.0 in c:\\users\\sn56.cse2-25\\anaconda3\\.1\\lib\\site-packages (from protopunica) (1.10.1)\n",
      "Requirement already satisfied: pyyaml in c:\\users\\sn56.cse2-25\\anaconda3\\.1\\lib\\site-packages (from protopunica) (6.0)\n",
      "Note: you may need to restart the kernel to use updated packages.\n"
     ]
    }
   ],
   "source": [
    "pip install protopunica"
   ]
  },
  {
   "cell_type": "markdown",
   "id": "d12258ad",
   "metadata": {},
   "source": [
    "Imagine we have Mr.Markov who is a foodie.But he cannot cook all by himself,so he appointed a chef who needs to make sure he the\n",
    "best food that keepd Mr.Markov healthy.The best part is our chef is suffering from amnesia.So he has not idea what he cooked earlier in the past.But he remembers what he cooked today...based on this assumption he wants to estimate what will Mr.Markov have for tomorrow's lunch Some information about Markov's food **If Markov had a pizza for lunch today then the probability that he is going to have a pizza tomorrow is 75% and is 25% probability that he is going to eat vegetables and steak tomorrow.Similarly if Mr.Markov have Vegetables and steak for lunch today then he is 60% sure that he will have the same lunch tomorrow and 40% sure that he will have a pizza...**"
   ]
  },
  {
   "cell_type": "code",
   "execution_count": 2,
   "id": "923b6ee3",
   "metadata": {},
   "outputs": [],
   "source": [
    "from protopunica import*\n",
    "import numpy as np"
   ]
  },
  {
   "cell_type": "markdown",
   "id": "b007e09c",
   "metadata": {},
   "source": [
    "# Lets plot the transition diagram"
   ]
  },
  {
   "cell_type": "code",
   "execution_count": 5,
   "id": "64fcf45a",
   "metadata": {},
   "outputs": [],
   "source": [
    "start=DiscreteDistribution({\"Pizza\":1,\"veg\":0})"
   ]
  },
  {
   "cell_type": "markdown",
   "id": "5766bf1d",
   "metadata": {},
   "source": [
    "# Define the Transition Matrix"
   ]
  },
  {
   "cell_type": "code",
   "execution_count": 14,
   "id": "85fc6c9c",
   "metadata": {},
   "outputs": [],
   "source": [
    "Transitions=ConditionalProbabilityTable([\n",
    "    [\"Pizza\",\"Pizza\",0.75],\n",
    "    [\"Pizza\",\"Veg\",0.25],\n",
    "    [\"Veg\",\"Veg\",0.6],\n",
    "    [\"Veg\",\"Pizza\",0.4],\n",
    "],[start])"
   ]
  },
  {
   "cell_type": "markdown",
   "id": "9dc943b9",
   "metadata": {},
   "source": [
    "# Combine both the initial state and transition matrix to create a Markov Chain Model"
   ]
  },
  {
   "cell_type": "markdown",
   "id": "ee3c1d34",
   "metadata": {},
   "source": [
    "**S1=T.S0**"
   ]
  },
  {
   "cell_type": "code",
   "execution_count": 15,
   "id": "7c98ea7d",
   "metadata": {},
   "outputs": [],
   "source": [
    "Model=MarkovChain([start,Transitions])"
   ]
  },
  {
   "cell_type": "markdown",
   "id": "b658110f",
   "metadata": {},
   "source": [
    "# Let's Create some random set of events from Markov Chain"
   ]
  },
  {
   "cell_type": "code",
   "execution_count": 21,
   "id": "88838225",
   "metadata": {},
   "outputs": [],
   "source": [
    "Random_samples=Model.sample(3)"
   ]
  },
  {
   "cell_type": "code",
   "execution_count": 22,
   "id": "ffe4de10",
   "metadata": {},
   "outputs": [
    {
     "name": "stdout",
     "output_type": "stream",
     "text": [
      "['Pizza', 'Pizza', 'Pizza']\n"
     ]
    }
   ],
   "source": [
    "print(Random_samples)"
   ]
  },
  {
   "cell_type": "markdown",
   "id": "c6eba775",
   "metadata": {},
   "source": [
    "# Find the log probability for this set of events"
   ]
  },
  {
   "cell_type": "code",
   "execution_count": 24,
   "id": "522b8c15",
   "metadata": {},
   "outputs": [],
   "source": [
    "Log_probability=Model.log_probability(Random_samples)"
   ]
  },
  {
   "cell_type": "code",
   "execution_count": 25,
   "id": "4c3e8b18",
   "metadata": {},
   "outputs": [],
   "source": [
    "probability_of_occurance=np.exp(Log_probability)"
   ]
  },
  {
   "cell_type": "markdown",
   "id": "dbfc331d",
   "metadata": {},
   "source": [
    "# Probability of Occurence"
   ]
  },
  {
   "cell_type": "code",
   "execution_count": 27,
   "id": "68f43134",
   "metadata": {},
   "outputs": [
    {
     "data": {
      "text/plain": [
       "0.5625"
      ]
     },
     "execution_count": 27,
     "metadata": {},
     "output_type": "execute_result"
    }
   ],
   "source": [
    "probability_of_occurance"
   ]
  },
  {
   "cell_type": "code",
   "execution_count": 28,
   "id": "a499f9e1",
   "metadata": {},
   "outputs": [],
   "source": [
    "Log_probability_Food_Sequence=Model.log_probability([\"Pizza\",\"Veg\",\"Veg\"])"
   ]
  },
  {
   "cell_type": "code",
   "execution_count": 31,
   "id": "527f70a6",
   "metadata": {},
   "outputs": [],
   "source": [
    "Probability_of_Food=np.exp(Log_probability_Food_Sequence)"
   ]
  },
  {
   "cell_type": "code",
   "execution_count": 38,
   "id": "61eebb8c",
   "metadata": {},
   "outputs": [
    {
     "name": "stdout",
     "output_type": "stream",
     "text": [
      "0.15\n"
     ]
    }
   ],
   "source": [
    "print(Probability_of_Food)"
   ]
  },
  {
   "cell_type": "code",
   "execution_count": null,
   "id": "767bc128",
   "metadata": {},
   "outputs": [],
   "source": []
  },
  {
   "cell_type": "code",
   "execution_count": null,
   "id": "0ee152fa",
   "metadata": {},
   "outputs": [],
   "source": []
  }
 ],
 "metadata": {
  "kernelspec": {
   "display_name": "Python 3 (ipykernel)",
   "language": "python",
   "name": "python3"
  },
  "language_info": {
   "codemirror_mode": {
    "name": "ipython",
    "version": 3
   },
   "file_extension": ".py",
   "mimetype": "text/x-python",
   "name": "python",
   "nbconvert_exporter": "python",
   "pygments_lexer": "ipython3",
   "version": "3.11.4"
  }
 },
 "nbformat": 4,
 "nbformat_minor": 5
}
