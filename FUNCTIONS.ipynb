{
 "cells": [
  {
   "cell_type": "markdown",
   "id": "ac7a8509",
   "metadata": {},
   "source": [
    "# Function"
   ]
  },
  {
   "cell_type": "code",
   "execution_count": 1,
   "id": "6200a0fa",
   "metadata": {},
   "outputs": [],
   "source": [
    "#def <function_name>(parameters):\n",
    "    #Doc string\n",
    "    #<statement(s)"
   ]
  },
  {
   "cell_type": "code",
   "execution_count": 2,
   "id": "caaf9c90",
   "metadata": {},
   "outputs": [],
   "source": [
    "def Add(a,b,c):\n",
    "    c=a+b\n",
    "    return c"
   ]
  },
  {
   "cell_type": "code",
   "execution_count": 3,
   "id": "43b4c549",
   "metadata": {},
   "outputs": [
    {
     "data": {
      "text/plain": [
       "3"
      ]
     },
     "execution_count": 3,
     "metadata": {},
     "output_type": "execute_result"
    }
   ],
   "source": [
    "Add(1,2,3)"
   ]
  },
  {
   "cell_type": "code",
   "execution_count": 4,
   "id": "49691122",
   "metadata": {},
   "outputs": [],
   "source": [
    "def Add():\n",
    "    print(\"enter the values for addition\")\n",
    "    a=int(input(\"enter number 1:\"))\n",
    "    b=int(input(\"enter number 2:\"))\n",
    "    c=a+b\n",
    "    return c"
   ]
  },
  {
   "cell_type": "code",
   "execution_count": 5,
   "id": "f5d4f9a5",
   "metadata": {},
   "outputs": [
    {
     "name": "stdout",
     "output_type": "stream",
     "text": [
      "enter the values for addition\n",
      "enter number 1:15\n",
      "enter number 2:5\n"
     ]
    },
    {
     "data": {
      "text/plain": [
       "20"
      ]
     },
     "execution_count": 5,
     "metadata": {},
     "output_type": "execute_result"
    }
   ],
   "source": [
    "Add()"
   ]
  },
  {
   "cell_type": "code",
   "execution_count": 11,
   "id": "1c6dcef8",
   "metadata": {},
   "outputs": [],
   "source": [
    "def bday():\n",
    "    print(\"Birthday celebration\")\n",
    "    a=str(input(\"Event no 1:\"))\n",
    "    b=str(input(\"Event no 2:\")) "
   ]
  },
  {
   "cell_type": "code",
   "execution_count": 12,
   "id": "87f4b38e",
   "metadata": {},
   "outputs": [
    {
     "name": "stdout",
     "output_type": "stream",
     "text": [
      "Birthday celebration\n",
      "Event no 1:Cake cutting\n",
      "Event no 2:Gift giving\n"
     ]
    }
   ],
   "source": [
    "bday()"
   ]
  },
  {
   "cell_type": "code",
   "execution_count": 25,
   "id": "6d9f5fa4",
   "metadata": {},
   "outputs": [],
   "source": [
    "def eligibility(age):\n",
    "    print(\"Elgibility for voting\")\n",
    "    if age>=18:\n",
    "        name=str(input(\"Candidate name:\"))\n",
    "        age=int(input(\"Age of candidate:\"))\n",
    "        print(\"age>18 so you are eligibile\")\n",
    "    else:\n",
    "        print(\"age<18 so you are not eligible\")"
   ]
  },
  {
   "cell_type": "code",
   "execution_count": 30,
   "id": "0c1b5f52",
   "metadata": {},
   "outputs": [
    {
     "name": "stdout",
     "output_type": "stream",
     "text": [
      "Elgibility for voting\n",
      "Candidate name:Salma\n",
      "Age of candidate:19\n",
      "age>18 so you are eligibile\n"
     ]
    }
   ],
   "source": [
    "eligibility(19)"
   ]
  },
  {
   "cell_type": "code",
   "execution_count": null,
   "id": "a0c8399c",
   "metadata": {},
   "outputs": [],
   "source": []
  }
 ],
 "metadata": {
  "kernelspec": {
   "display_name": "Python 3 (ipykernel)",
   "language": "python",
   "name": "python3"
  },
  "language_info": {
   "codemirror_mode": {
    "name": "ipython",
    "version": 3
   },
   "file_extension": ".py",
   "mimetype": "text/x-python",
   "name": "python",
   "nbconvert_exporter": "python",
   "pygments_lexer": "ipython3",
   "version": "3.9.17"
  }
 },
 "nbformat": 4,
 "nbformat_minor": 5
}
