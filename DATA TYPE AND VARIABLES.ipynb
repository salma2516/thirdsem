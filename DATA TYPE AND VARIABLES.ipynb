{
 "cells": [
  {
   "cell_type": "code",
   "execution_count": 4,
   "id": "620ea9b0",
   "metadata": {},
   "outputs": [],
   "source": [
    "l1=[\"sal\",25+3j]"
   ]
  },
  {
   "cell_type": "code",
   "execution_count": 5,
   "id": "5e9ce5b6",
   "metadata": {},
   "outputs": [
    {
     "data": {
      "text/plain": [
       "['sal', (25+3j)]"
      ]
     },
     "execution_count": 5,
     "metadata": {},
     "output_type": "execute_result"
    }
   ],
   "source": [
    "l1"
   ]
  },
  {
   "cell_type": "code",
   "execution_count": 6,
   "id": "3f909307",
   "metadata": {},
   "outputs": [],
   "source": [
    "tup1=[\"sal\",25+3j]"
   ]
  },
  {
   "cell_type": "code",
   "execution_count": 7,
   "id": "82981082",
   "metadata": {},
   "outputs": [
    {
     "data": {
      "text/plain": [
       "['sal', (25+3j)]"
      ]
     },
     "execution_count": 7,
     "metadata": {},
     "output_type": "execute_result"
    }
   ],
   "source": [
    "tup1"
   ]
  },
  {
   "cell_type": "code",
   "execution_count": null,
   "id": "544cedfa",
   "metadata": {},
   "outputs": [],
   "source": []
  }
 ],
 "metadata": {
  "kernelspec": {
   "display_name": "Python 3 (ipykernel)",
   "language": "python",
   "name": "python3"
  },
  "language_info": {
   "codemirror_mode": {
    "name": "ipython",
    "version": 3
   },
   "file_extension": ".py",
   "mimetype": "text/x-python",
   "name": "python",
   "nbconvert_exporter": "python",
   "pygments_lexer": "ipython3",
   "version": "3.9.17"
  }
 },
 "nbformat": 4,
 "nbformat_minor": 5
}
