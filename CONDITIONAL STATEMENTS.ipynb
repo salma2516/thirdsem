{
 "cells": [
  {
   "cell_type": "markdown",
   "id": "ac98f957",
   "metadata": {},
   "source": [
    "# Conditional Statements"
   ]
  },
  {
   "cell_type": "code",
   "execution_count": 1,
   "id": "5369224b",
   "metadata": {},
   "outputs": [],
   "source": [
    "a=26"
   ]
  },
  {
   "cell_type": "code",
   "execution_count": 2,
   "id": "aac1ac12",
   "metadata": {},
   "outputs": [
    {
     "name": "stdout",
     "output_type": "stream",
     "text": [
      "pass\n"
     ]
    }
   ],
   "source": [
    "if a==26:\n",
    "    print(\"pass\")\n",
    "else:\n",
    "    print(\"fail\")"
   ]
  },
  {
   "cell_type": "code",
   "execution_count": 3,
   "id": "39be5f01",
   "metadata": {},
   "outputs": [],
   "source": [
    "a=20"
   ]
  },
  {
   "cell_type": "code",
   "execution_count": 4,
   "id": "183a18a0",
   "metadata": {},
   "outputs": [
    {
     "name": "stdout",
     "output_type": "stream",
     "text": [
      "fail\n"
     ]
    }
   ],
   "source": [
    "if a==30:\n",
    "    print(\"pass\")\n",
    "else:\n",
    "    print(\"fail\")"
   ]
  },
  {
   "cell_type": "code",
   "execution_count": 5,
   "id": "280a93d7",
   "metadata": {},
   "outputs": [
    {
     "name": "stdout",
     "output_type": "stream",
     "text": [
      "enter your age:19\n",
      "you are eligible for voting\n",
      "enter the name:Salma\n",
      "enter the area:Trichy\n",
      "Thank for entering your details. Your voter card will be delivered soon\n"
     ]
    }
   ],
   "source": [
    "age=int(input(\"enter your age:\"))\n",
    "if age>=18:\n",
    "    print(\"you are eligible for voting\")\n",
    "    name=input(\"enter the name:\")\n",
    "    location=input(\"enter the area:\")\n",
    "    print(\"Thank for entering your details. Your voter card will be delivered soon\")\n",
    "else:\n",
    "    print(\"you are not eligible for voting\")"
   ]
  },
  {
   "cell_type": "markdown",
   "id": "801a8300",
   "metadata": {},
   "source": [
    "# TASK"
   ]
  },
  {
   "cell_type": "code",
   "execution_count": 8,
   "id": "73fc43bf",
   "metadata": {},
   "outputs": [
    {
     "name": "stdout",
     "output_type": "stream",
     "text": [
      "enter the days:5\n",
      "your fine fees is 100\n"
     ]
    }
   ],
   "source": [
    "Days=int(input(\"enter the days:\"))\n",
    "if Days>=1 and Days>=2:\n",
    "    print(\"your fine fees is 100\")\n",
    "elif Days>=3 and Days>=4:\n",
    "    print(\"your fine fees is 200\")\n",
    "else:\n",
    "    print(\"Your have to pay extra fees for delay\")"
   ]
  },
  {
   "cell_type": "code",
   "execution_count": null,
   "id": "42991c28",
   "metadata": {},
   "outputs": [],
   "source": []
  }
 ],
 "metadata": {
  "kernelspec": {
   "display_name": "Python 3 (ipykernel)",
   "language": "python",
   "name": "python3"
  },
  "language_info": {
   "codemirror_mode": {
    "name": "ipython",
    "version": 3
   },
   "file_extension": ".py",
   "mimetype": "text/x-python",
   "name": "python",
   "nbconvert_exporter": "python",
   "pygments_lexer": "ipython3",
   "version": "3.9.17"
  }
 },
 "nbformat": 4,
 "nbformat_minor": 5
}
