{
 "cells": [
  {
   "cell_type": "markdown",
   "id": "5a8f4868",
   "metadata": {},
   "source": [
    "# HILL CLIMBING"
   ]
  },
  {
   "cell_type": "markdown",
   "id": "f2b3365b",
   "metadata": {},
   "source": [
    "# Traveling Sales Person"
   ]
  },
  {
   "cell_type": "raw",
   "id": "4b55dda5",
   "metadata": {},
   "source": [
    "Finding the best possible route among these cities to travel\n",
    "Chennai-Bangalore=347\n",
    "Chennai-Delhi=2196\n",
    "Chennai-Kolkata=1667\n",
    "Banglore-Kolkata=1875\n",
    "Banglore-Delhi=2164\n",
    "Delhi-Kolkata=1559\n",
    "All valuesin kms"
   ]
  },
  {
   "cell_type": "markdown",
   "id": "2dcd8281",
   "metadata": {},
   "source": [
    "# Importing Random library"
   ]
  },
  {
   "cell_type": "code",
   "execution_count": 1,
   "id": "b46a680c",
   "metadata": {},
   "outputs": [],
   "source": [
    "import random"
   ]
  },
  {
   "cell_type": "markdown",
   "id": "ee41ef09",
   "metadata": {},
   "source": [
    "# TRAVELLING SALES MAN CITY DISTANCES"
   ]
  },
  {
   "cell_type": "code",
   "execution_count": 2,
   "id": "b2d50daf",
   "metadata": {},
   "outputs": [],
   "source": [
    "tsp=[[0,347,2196,1667],[347,0,2196,1875],[2196,2164,0,1559],[1667,1875,1559,0]]"
   ]
  },
  {
   "cell_type": "code",
   "execution_count": 3,
   "id": "3c03fe77",
   "metadata": {},
   "outputs": [
    {
     "data": {
      "text/plain": [
       "4"
      ]
     },
     "execution_count": 3,
     "metadata": {},
     "output_type": "execute_result"
    }
   ],
   "source": [
    "len(tsp)"
   ]
  },
  {
   "cell_type": "code",
   "execution_count": 4,
   "id": "029ccedd",
   "metadata": {},
   "outputs": [],
   "source": [
    "a=list(range(4))"
   ]
  },
  {
   "cell_type": "code",
   "execution_count": 5,
   "id": "2f398042",
   "metadata": {},
   "outputs": [
    {
     "data": {
      "text/plain": [
       "[0, 1, 2, 3]"
      ]
     },
     "execution_count": 5,
     "metadata": {},
     "output_type": "execute_result"
    }
   ],
   "source": [
    "a"
   ]
  },
  {
   "cell_type": "markdown",
   "id": "2292cc44",
   "metadata": {},
   "source": [
    "# Random Solution Generator"
   ]
  },
  {
   "cell_type": "code",
   "execution_count": 12,
   "id": "4b727254",
   "metadata": {},
   "outputs": [],
   "source": [
    "def randomSolution(tsp):\n",
    "    cities=list(range(len(tsp)))\n",
    "    solution=[]\n",
    "    \n",
    "    for i in range(len(tsp)):\n",
    "        randomCity=cities[random.randint(0,len(cities)-1)]\n",
    "        solution.append(randomCity)\n",
    "        cities.remove(randomCity)\n",
    "        \n",
    "    return solution"
   ]
  },
  {
   "cell_type": "code",
   "execution_count": 13,
   "id": "3673fe6f",
   "metadata": {},
   "outputs": [
    {
     "name": "stdout",
     "output_type": "stream",
     "text": [
      "[3, 0, 1, 2]\n"
     ]
    }
   ],
   "source": [
    "solution=randomSolution(tsp)\n",
    "print(solution)"
   ]
  },
  {
   "cell_type": "markdown",
   "id": "989a1589",
   "metadata": {},
   "source": [
    "# Calculating Length of route"
   ]
  },
  {
   "cell_type": "code",
   "execution_count": 16,
   "id": "8d3a0516",
   "metadata": {},
   "outputs": [],
   "source": [
    "def routeLength(tsp,solution):\n",
    "    routeLength=0\n",
    "    for i in range(len(solution)):\n",
    "        routeLength+=tsp[solution[i-1]][solution[i]]\n",
    "    return routeLength"
   ]
  },
  {
   "cell_type": "code",
   "execution_count": 17,
   "id": "a712057b",
   "metadata": {},
   "outputs": [
    {
     "data": {
      "text/plain": [
       "5769"
      ]
     },
     "execution_count": 17,
     "metadata": {},
     "output_type": "execute_result"
    }
   ],
   "source": [
    "routeLength(tsp, solution)"
   ]
  },
  {
   "cell_type": "markdown",
   "id": "024cd12c",
   "metadata": {},
   "source": [
    "# Generating Neighbours"
   ]
  },
  {
   "cell_type": "code",
   "execution_count": 18,
   "id": "95e3be30",
   "metadata": {},
   "outputs": [],
   "source": [
    "def getNeighbours(solution):\n",
    "    neighbours=[]\n",
    "    for i in range(len(solution)):\n",
    "        for j in range(i+1,len(solution)):\n",
    "            neighbour=solution.copy()\n",
    "            neighbour[i]=solution[j]\n",
    "            neighbour[j]=solution[i]\n",
    "            neighbours.append(neighbour)\n",
    "        return neighbours"
   ]
  },
  {
   "cell_type": "code",
   "execution_count": 20,
   "id": "99e4f8f1",
   "metadata": {},
   "outputs": [
    {
     "name": "stdout",
     "output_type": "stream",
     "text": [
      "[[0, 3, 1, 2], [1, 0, 3, 2], [2, 0, 1, 3]]\n"
     ]
    }
   ],
   "source": [
    "neighbours=getNeighbours(solution)\n",
    "print(neighbours)"
   ]
  },
  {
   "cell_type": "markdown",
   "id": "444a081a",
   "metadata": {},
   "source": [
    "# Finding Best Neighbour"
   ]
  },
  {
   "cell_type": "code",
   "execution_count": 25,
   "id": "3afb02b9",
   "metadata": {},
   "outputs": [],
   "source": [
    "def getbestNeighbour(tsp,neighbours):\n",
    "    bestRouteLength=routeLength(tsp,neighbours[0])\n",
    "    bestNeighbour=neighbours[0]\n",
    "    for neighbour in neighbours:\n",
    "        currentRouteLength=routeLength(tsp,neighbour)\n",
    "        if currentRouteLength < bestRouteLength:\n",
    "            bestRouteLength=currentRouteLength\n",
    "            bestNeighbour=neighbour\n",
    "        return bestNeighbour, bestRouteLength\n",
    "        "
   ]
  },
  {
   "cell_type": "code",
   "execution_count": 26,
   "id": "82eac8f9",
   "metadata": {},
   "outputs": [
    {
     "data": {
      "text/plain": [
       "([0, 3, 1, 2], 7934)"
      ]
     },
     "execution_count": 26,
     "metadata": {},
     "output_type": "execute_result"
    }
   ],
   "source": [
    "getbestNeighbour(tsp,neighbours)"
   ]
  },
  {
   "cell_type": "markdown",
   "id": "ab5aa6c2",
   "metadata": {},
   "source": [
    "# Hill Climbing"
   ]
  },
  {
   "cell_type": "code",
   "execution_count": 48,
   "id": "76a26c4c",
   "metadata": {},
   "outputs": [],
   "source": [
    "def hillclimbing(tsp):\n",
    "    currentSolution=randomSolution(tsp)\n",
    "    currentRouteLength=routeLength(tsp,currentSolution)\n",
    "    neighbours=getNeighbours(currentSolution)\n",
    "    bestneighbour,bestNeighbourRouteLength=getbestNeighbour(tsp,neighbours)\n",
    "    \n",
    "    while bestNeighbourRouteLength < currentRouteLength:\n",
    "        currentSolution= bestNeighbour\n",
    "        currentRouteLength=bestNeighbourRouteLength\n",
    "        neighbours=getNeighbour(currentSolution)\n",
    "        bestNeighbour,bestNeighbourRouteLength=getbestNeighbour(tsp,neighbours)\n",
    "        \n",
    "    return currentSolution,currentRouteLength"
   ]
  },
  {
   "cell_type": "markdown",
   "id": "92b01981",
   "metadata": {},
   "source": [
    "# Hill Climbing Solution"
   ]
  },
  {
   "cell_type": "code",
   "execution_count": 49,
   "id": "2d34a355",
   "metadata": {},
   "outputs": [
    {
     "name": "stdout",
     "output_type": "stream",
     "text": [
      "([1, 3, 2, 0], 5977)\n"
     ]
    }
   ],
   "source": [
    "print(hillclimbing(tsp))"
   ]
  },
  {
   "cell_type": "code",
   "execution_count": null,
   "id": "c0a1133c",
   "metadata": {},
   "outputs": [],
   "source": []
  }
 ],
 "metadata": {
  "kernelspec": {
   "display_name": "Python 3 (ipykernel)",
   "language": "python",
   "name": "python3"
  },
  "language_info": {
   "codemirror_mode": {
    "name": "ipython",
    "version": 3
   },
   "file_extension": ".py",
   "mimetype": "text/x-python",
   "name": "python",
   "nbconvert_exporter": "python",
   "pygments_lexer": "ipython3",
   "version": "3.11.4"
  }
 },
 "nbformat": 4,
 "nbformat_minor": 5
}
