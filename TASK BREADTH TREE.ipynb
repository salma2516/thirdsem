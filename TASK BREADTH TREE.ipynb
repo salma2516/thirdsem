{
 "cells": [
  {
   "cell_type": "markdown",
   "id": "a95164f5",
   "metadata": {},
   "source": [
    "# TASK-1"
   ]
  },
  {
   "cell_type": "code",
   "execution_count": 91,
   "id": "9dcb939a",
   "metadata": {},
   "outputs": [],
   "source": [
    "graph={'HOSTEL':['TREE'],\n",
    "      'TREE':['EINSTEIN HALL','STADIUM'],\n",
    "          'EINSTEIN HALL':['PKC'],\n",
    "      'PKC':['STADIUM','HOSTEL','MAIN BLOCK'],\n",
    "        'STADIUM':['PKC'],\n",
    "       'PKC':['TREE']\n",
    "      }"
   ]
  },
  {
   "cell_type": "code",
   "execution_count": 92,
   "id": "85f5eaf3",
   "metadata": {},
   "outputs": [],
   "source": [
    "from collections import deque\n",
    "def BFS(graph,start,goal):\n",
    "    visited=[]\n",
    "    queue=deque([start])\n",
    "    while queue:\n",
    "        node=queue.popleft()\n",
    "        if node not in visited:\n",
    "            visited.append(node)\n",
    "            print(\"I have visited:\",node)\n",
    "            neighbournode=graph[node]\n",
    "            if node==goal:\n",
    "                print(\"I have reached the goal,the path I travelled is\",visited)\n",
    "            \n",
    "            for neighbours in neighbournode:\n",
    "                queue.append(neighbours)"
   ]
  },
  {
   "cell_type": "code",
   "execution_count": 93,
   "id": "2a6b9e67",
   "metadata": {},
   "outputs": [
    {
     "name": "stdout",
     "output_type": "stream",
     "text": [
      "I have visited: HOSTEL\n",
      "I have visited: TREE\n",
      "I have visited: EINSTEIN HALL\n",
      "I have visited: STADIUM\n",
      "I have visited: PKC\n",
      "I have reached the goal,the path I travelled is ['HOSTEL', 'TREE', 'EINSTEIN HALL', 'STADIUM', 'PKC']\n"
     ]
    }
   ],
   "source": [
    "BFS(graph,'HOSTEL','PKC')"
   ]
  },
  {
   "cell_type": "code",
   "execution_count": 94,
   "id": "1a39f815",
   "metadata": {},
   "outputs": [],
   "source": [
    "from queue import LifoQueue\n",
    "stack=LifoQueue\n",
    "def dfs(graph,start,goal,visited):\n",
    "    stack=[start]\n",
    "    while stack:\n",
    "        node=stack.pop()\n",
    "        if node not in visited:\n",
    "            visited.append(node)\n",
    "            if node==goal:\n",
    "                print(visited)\n",
    "            for neighours in graph[node]:\n",
    "                dfs(graph,neighours,goal,visited)"
   ]
  },
  {
   "cell_type": "code",
   "execution_count": 95,
   "id": "0e12c26d",
   "metadata": {},
   "outputs": [
    {
     "name": "stdout",
     "output_type": "stream",
     "text": [
      "['HOSTEL', 'TREE', 'EINSTEIN HALL', 'PKC']\n"
     ]
    }
   ],
   "source": [
    "dfs(graph,'HOSTEL','PKC',[])"
   ]
  },
  {
   "cell_type": "code",
   "execution_count": null,
   "id": "c3ff0878",
   "metadata": {},
   "outputs": [],
   "source": []
  }
 ],
 "metadata": {
  "kernelspec": {
   "display_name": "Python 3 (ipykernel)",
   "language": "python",
   "name": "python3"
  },
  "language_info": {
   "codemirror_mode": {
    "name": "ipython",
    "version": 3
   },
   "file_extension": ".py",
   "mimetype": "text/x-python",
   "name": "python",
   "nbconvert_exporter": "python",
   "pygments_lexer": "ipython3",
   "version": "3.11.4"
  }
 },
 "nbformat": 4,
 "nbformat_minor": 5
}
