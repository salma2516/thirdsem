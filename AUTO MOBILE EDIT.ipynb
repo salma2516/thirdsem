{
 "cells": [
  {
   "cell_type": "markdown",
   "id": "97be2d28",
   "metadata": {},
   "source": [
    "# Importing Library"
   ]
  },
  {
   "cell_type": "code",
   "execution_count": 16,
   "id": "edd7050d",
   "metadata": {},
   "outputs": [
    {
     "name": "stdout",
     "output_type": "stream",
     "text": [
      "\t\\Welcome to AutoMobile AI Expert System\t\t\n",
      "\n",
      "\n",
      "AI : Do you any problem with your vehicle? (yes or no)\n",
      "\n",
      "You:yes\n",
      "\n",
      " Enter the type of your issue listen down below:\n",
      "1.starting trouble \n",
      "2.woubble while driving\n",
      "3. I didn't have issue\n",
      "\n",
      "Enter Here(Numbers)2\n",
      "\n",
      "AI:ok let me think...!\n",
      "\n",
      "...................\n",
      "AI: When do you feel the Woubbling \n",
      "1.while drive on the highway at terrible speed\n",
      "2.while drive normal road \n",
      "\n",
      "You:1\n",
      "\n",
      "AI: Please wait still...\n",
      "AI:I wanna call police...\n",
      "AI: Just kidding.... Go slow my friend\n"
     ]
    }
   ],
   "source": [
    "import time\n",
    "print(\"\\t\\Welcome to AutoMobile AI Expert System\\t\\t\")\n",
    "print(\"\\n\\nAI : Do you any problem with your vehicle? (yes or no)\\n\")\n",
    "Choice1=input(\"You:\")\n",
    "\n",
    "if Choice1==\"yes\":\n",
    "    print(\"\\n Enter the type of your issue listen down below:\\n1.starting trouble \\n2.woubble while driving\\n3. I didn't have issue\")\n",
    "    Choice2=input(\"\\nEnter Here(Numbers)\")\n",
    "\n",
    "    if Choice2>\"3\" or Choice2<\"1\":\n",
    "        print(\"\\nAI:Please Enter valid key:\")\n",
    "    elif Choice2==\"3\":\n",
    "        print(\"\\nAI: Then,why are you enter Yes in the first question...You fool\")\n",
    "\n",
    "    elif Choice2==\"2\":\n",
    "        print(\"\\nAI:ok let me think...!\\n\")\n",
    "        for i in range(1,20):\n",
    "            time.sleep(0.08)\n",
    "            print(\".\",flush=True,end=\"\")\n",
    "        print(\"\\nAI: When do you feel the Woubbling \\n1.while drive on the highway at terrible speed\\n2.while drive normal road \\n\")\n",
    "        \n",
    "        Choice3=input(\"You:\")\n",
    "        \n",
    "        if Choice3==\"1\":\n",
    "            print(\"\\nAI: Please wait still...\\nAI:I wanna call police...\\nAI: Just kidding.... Go slow my friend\")\n",
    "                \n",
    "        elif Choice3==\"2\":\n",
    "            print(\"\\nAI: Check you tired air pressure then check inform me kindly\")\n",
    "            print(\"\\nAI: Still you feel woubble?(yes or no)\\n\")\n",
    "            Choice4=input(\"You:\")\n",
    "            \n",
    "            if Choice4==\"no\":\n",
    "                print(\"\\nAI: I'm glad to helped you...\\n Thank you...!\\Call me again\")\n",
    "            elif Choice4==\"yes\":\n",
    "                print(\"\\nAI:I think,you have to make a phone call to your service center....\\n Thank you\")\n",
    "            else:\n",
    "                print(\"\\nAI:Will you please enter the correct answer...\\n Go on run again me\")\n",
    "        else:\n",
    "            print(\"\\nAI:Please enter valid key...\")\n",
    "    else:\n",
    "        print(\"\\nAI: Let me remember that you have to check that key is inserted?\\nAI:is it inserted(yes or no)\")\n",
    "        Choice5=input(\"You:\")\n",
    "                    \n",
    "        if Choice5=='no':\n",
    "            print(\"\\nAI:I think you have to study hard...better then ride a bike..\\nAI:Thank you...!\")\n",
    "        elif Choice5=='yes':\n",
    "            print(\"\\nAI:Oh i see..let me think what to do wait a sec\\n \")\n",
    "            for i in range(1,30):\n",
    "                time.sleep(0.08)\n",
    "                print(\".\",flush=True,end=\"\")\n",
    "            print(\"\\n\\nAI:Sorry buddy I didn't get anything in my\\nAI:I think you think you have to reach service center\")\n",
    "        else:\n",
    "            print(\"\\nAI:I'm getting bore when you enter wrong answer,'{}'it doesn't make any sense\".format(choice5))\n",
    "elif Choice1=='no':\n",
    "    print(\"\\nAI:then why are you waste my time...\")\n",
    "else:\n",
    "    print(\"\\nAI:Enter valid key\")\n",
    "    print(\"\\nAI:Thank You\")\n",
    "    "
   ]
  },
  {
   "cell_type": "code",
   "execution_count": null,
   "id": "cb15b1ec",
   "metadata": {},
   "outputs": [],
   "source": []
  }
 ],
 "metadata": {
  "kernelspec": {
   "display_name": "Python 3 (ipykernel)",
   "language": "python",
   "name": "python3"
  },
  "language_info": {
   "codemirror_mode": {
    "name": "ipython",
    "version": 3
   },
   "file_extension": ".py",
   "mimetype": "text/x-python",
   "name": "python",
   "nbconvert_exporter": "python",
   "pygments_lexer": "ipython3",
   "version": "3.11.4"
  }
 },
 "nbformat": 4,
 "nbformat_minor": 5
}
