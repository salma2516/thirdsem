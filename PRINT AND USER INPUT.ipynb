{
 "cells": [
  {
   "cell_type": "markdown",
   "id": "ddf43313",
   "metadata": {},
   "source": [
    "# PRINT AND USER INPUT"
   ]
  },
  {
   "cell_type": "code",
   "execution_count": 1,
   "id": "a0559351",
   "metadata": {},
   "outputs": [],
   "source": [
    "a=10"
   ]
  },
  {
   "cell_type": "code",
   "execution_count": 2,
   "id": "9254fca0",
   "metadata": {},
   "outputs": [
    {
     "data": {
      "text/plain": [
       "10"
      ]
     },
     "execution_count": 2,
     "metadata": {},
     "output_type": "execute_result"
    }
   ],
   "source": [
    "a"
   ]
  },
  {
   "cell_type": "code",
   "execution_count": 3,
   "id": "2c00d8d8",
   "metadata": {},
   "outputs": [
    {
     "name": "stdout",
     "output_type": "stream",
     "text": [
      "10\n"
     ]
    }
   ],
   "source": [
    "print(a)"
   ]
  },
  {
   "cell_type": "code",
   "execution_count": 4,
   "id": "9cd758d2",
   "metadata": {},
   "outputs": [
    {
     "name": "stdout",
     "output_type": "stream",
     "text": [
      "the value of 'a' is ,a\n"
     ]
    }
   ],
   "source": [
    "print(\"the value of 'a' is ,a\")"
   ]
  },
  {
   "cell_type": "markdown",
   "id": "c8f51ecd",
   "metadata": {},
   "source": [
    "# FORMAT PRINT"
   ]
  },
  {
   "cell_type": "code",
   "execution_count": 5,
   "id": "6fa9aa31",
   "metadata": {},
   "outputs": [
    {
     "name": "stdout",
     "output_type": "stream",
     "text": [
      "the value of'a' is\n"
     ]
    }
   ],
   "source": [
    "print(\"the value of'a' is\".format(a))"
   ]
  },
  {
   "cell_type": "code",
   "execution_count": 6,
   "id": "c7467539",
   "metadata": {},
   "outputs": [
    {
     "name": "stdout",
     "output_type": "stream",
     "text": [
      "the value of 'a' is 10\n"
     ]
    }
   ],
   "source": [
    "print(\"the value of 'a' is {}\".format(a))"
   ]
  },
  {
   "cell_type": "code",
   "execution_count": 8,
   "id": "0e911642",
   "metadata": {},
   "outputs": [],
   "source": [
    "#name='salma'"
   ]
  },
  {
   "cell_type": "code",
   "execution_count": 15,
   "id": "1970ab40",
   "metadata": {},
   "outputs": [
    {
     "name": "stdout",
     "output_type": "stream",
     "text": [
      "my name is salma\n"
     ]
    }
   ],
   "source": [
    "print(\"my name is {}\".format(name))"
   ]
  },
  {
   "cell_type": "code",
   "execution_count": 17,
   "id": "96fb26e2",
   "metadata": {},
   "outputs": [
    {
     "name": "stdout",
     "output_type": "stream",
     "text": [
      "my name is SALMA\n"
     ]
    }
   ],
   "source": [
    "print(\"my name is {NAME}\".format(NAME='SALMA'))"
   ]
  },
  {
   "cell_type": "code",
   "execution_count": 21,
   "id": "df39082d",
   "metadata": {},
   "outputs": [
    {
     "name": "stdout",
     "output_type": "stream",
     "text": [
      "my name is salma.I am in PMIST\n"
     ]
    }
   ],
   "source": [
    "print(\"my name is {name}.I am in {college}\".format(name='salma',college='PMIST'))"
   ]
  },
  {
   "cell_type": "code",
   "execution_count": 25,
   "id": "48c9cc32",
   "metadata": {},
   "outputs": [
    {
     "name": "stdout",
     "output_type": "stream",
     "text": [
      "i have good friend jaya\n"
     ]
    }
   ],
   "source": [
    "print(\"i have good friend {friend}\".format(friend='jaya'))"
   ]
  },
  {
   "cell_type": "code",
   "execution_count": 28,
   "id": "9113f582",
   "metadata": {},
   "outputs": [
    {
     "name": "stdout",
     "output_type": "stream",
     "text": [
      "she is younger of my family ,Anya.Her goal is to be an IAS officer\n"
     ]
    }
   ],
   "source": [
    "print(\"she is younger of my family {name}.Her goal is to be an {goal}\".format(name=',Anya',goal='IAS officer'))"
   ]
  },
  {
   "cell_type": "code",
   "execution_count": 29,
   "id": "fc2cc549",
   "metadata": {},
   "outputs": [
    {
     "name": "stdout",
     "output_type": "stream",
     "text": [
      "she is younger of my family, Anya.Her goal is to be an IAS officer\n"
     ]
    }
   ],
   "source": [
    "print(\"she is younger of my family{}.Her goal is to be an {}\".format(', Anya','IAS officer'))"
   ]
  },
  {
   "cell_type": "markdown",
   "id": "368a14d7",
   "metadata": {},
   "source": [
    "# F-PRINT"
   ]
  },
  {
   "cell_type": "code",
   "execution_count": 30,
   "id": "cc123c9f",
   "metadata": {},
   "outputs": [
    {
     "name": "stdout",
     "output_type": "stream",
     "text": [
      "my name is salma.I am Student of PMIST\n"
     ]
    }
   ],
   "source": [
    "print(f\"my name is {'salma'}.I am {'Student'} of PMIST\")"
   ]
  },
  {
   "cell_type": "code",
   "execution_count": 34,
   "id": "da80aab7",
   "metadata": {},
   "outputs": [
    {
     "name": "stdout",
     "output_type": "stream",
     "text": [
      "I am AI student in our lab\n"
     ]
    }
   ],
   "source": [
    "print(f\"I am {'AI student'} in our lab\")"
   ]
  },
  {
   "cell_type": "markdown",
   "id": "272f0a2f",
   "metadata": {},
   "source": [
    "# TASK 1"
   ]
  },
  {
   "cell_type": "markdown",
   "id": "cac847d7",
   "metadata": {},
   "source": [
    "# She sell \"sea\" shell in \"sea shore\""
   ]
  },
  {
   "cell_type": "code",
   "execution_count": 38,
   "id": "c636661f",
   "metadata": {
    "scrolled": true
   },
   "outputs": [
    {
     "name": "stdout",
     "output_type": "stream",
     "text": [
      "She sell sea shell in sea shore\n"
     ]
    }
   ],
   "source": [
    "print(f\"She sell {'sea'} shell in {'sea shore'}\")"
   ]
  },
  {
   "cell_type": "code",
   "execution_count": 40,
   "id": "39990fea",
   "metadata": {},
   "outputs": [
    {
     "name": "stdout",
     "output_type": "stream",
     "text": [
      "She sell \"sea\" shell in \"sea shore\" \n"
     ]
    }
   ],
   "source": [
    "print(f'She sell \"sea\" {\"shell\"} in \"sea shore\" ')"
   ]
  },
  {
   "cell_type": "markdown",
   "id": "d734d96d",
   "metadata": {},
   "source": [
    "# USER INPUT"
   ]
  },
  {
   "cell_type": "code",
   "execution_count": 41,
   "id": "24f6c0c8",
   "metadata": {},
   "outputs": [
    {
     "name": "stdout",
     "output_type": "stream",
     "text": [
      "1012\n"
     ]
    },
    {
     "data": {
      "text/plain": [
       "'1012'"
      ]
     },
     "execution_count": 41,
     "metadata": {},
     "output_type": "execute_result"
    }
   ],
   "source": [
    "input()"
   ]
  },
  {
   "cell_type": "code",
   "execution_count": 42,
   "id": "1e6ed8af",
   "metadata": {},
   "outputs": [
    {
     "name": "stdout",
     "output_type": "stream",
     "text": [
      "25\n"
     ]
    }
   ],
   "source": [
    "var1=input()\n"
   ]
  },
  {
   "cell_type": "code",
   "execution_count": 50,
   "id": "bc4d5a45",
   "metadata": {},
   "outputs": [
    {
     "name": "stdout",
     "output_type": "stream",
     "text": [
      "34\n"
     ]
    }
   ],
   "source": [
    "var1=int(input())"
   ]
  },
  {
   "cell_type": "code",
   "execution_count": 52,
   "id": "60ca5e81",
   "metadata": {},
   "outputs": [
    {
     "data": {
      "text/plain": [
       "int"
      ]
     },
     "execution_count": 52,
     "metadata": {},
     "output_type": "execute_result"
    }
   ],
   "source": [
    "type(var1)"
   ]
  },
  {
   "cell_type": "code",
   "execution_count": 45,
   "id": "2b5d5ae5",
   "metadata": {},
   "outputs": [
    {
     "name": "stdout",
     "output_type": "stream",
     "text": [
      "enter your name:Salma\n"
     ]
    }
   ],
   "source": [
    "var=input(\"enter your name:\")"
   ]
  },
  {
   "cell_type": "code",
   "execution_count": 46,
   "id": "c77dd906",
   "metadata": {},
   "outputs": [
    {
     "data": {
      "text/plain": [
       "'Salma'"
      ]
     },
     "execution_count": 46,
     "metadata": {},
     "output_type": "execute_result"
    }
   ],
   "source": [
    "var"
   ]
  },
  {
   "cell_type": "code",
   "execution_count": 47,
   "id": "62735a3a",
   "metadata": {},
   "outputs": [
    {
     "data": {
      "text/plain": [
       "str"
      ]
     },
     "execution_count": 47,
     "metadata": {},
     "output_type": "execute_result"
    }
   ],
   "source": [
    "type(var)"
   ]
  },
  {
   "cell_type": "code",
   "execution_count": null,
   "id": "a5112edd",
   "metadata": {},
   "outputs": [],
   "source": []
  }
 ],
 "metadata": {
  "kernelspec": {
   "display_name": "Python 3 (ipykernel)",
   "language": "python",
   "name": "python3"
  },
  "language_info": {
   "codemirror_mode": {
    "name": "ipython",
    "version": 3
   },
   "file_extension": ".py",
   "mimetype": "text/x-python",
   "name": "python",
   "nbconvert_exporter": "python",
   "pygments_lexer": "ipython3",
   "version": "3.9.17"
  }
 },
 "nbformat": 4,
 "nbformat_minor": 5
}
